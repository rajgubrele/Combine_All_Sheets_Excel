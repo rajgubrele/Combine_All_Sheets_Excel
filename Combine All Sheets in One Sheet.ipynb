{
 "cells": [
  {
   "cell_type": "code",
   "execution_count": 1,
   "id": "1291dcd4",
   "metadata": {},
   "outputs": [],
   "source": [
    "import pandas as pd"
   ]
  },
  {
   "cell_type": "code",
   "execution_count": null,
   "id": "ca05eae1",
   "metadata": {},
   "outputs": [],
   "source": []
  },
  {
   "cell_type": "code",
   "execution_count": null,
   "id": "2a5756ef",
   "metadata": {},
   "outputs": [],
   "source": [
    "#df = pd.read_excel(r'C:\\Users\\RAJG\\Downloads\\New files Sales data Festive Sale\\New_Sheet_7.xlsx')\n",
    "#dataframe1 = pd.read_excel(\"New_Sheet_7.xlsx\")\n",
    "#df = pd.read_excel(r'C:\\Users\\RAJG\\Downloads\\New files Sales data Festive Sale\\New_Sheet_7.xls',sheet_name=None)\n",
    "#print(df)"
   ]
  },
  {
   "cell_type": "code",
   "execution_count": 3,
   "id": "a7194162",
   "metadata": {
    "scrolled": false
   },
   "outputs": [
    {
     "ename": "FileNotFoundError",
     "evalue": "[Errno 2] No such file or directory: 'C:\\\\Users\\\\RAJG\\\\Downloads\\\\Leads to Sale\\\\Sales Data\\\\ECR_Oct1_Merged.xls'",
     "output_type": "error",
     "traceback": [
      "\u001b[1;31m---------------------------------------------------------------------------\u001b[0m",
      "\u001b[1;31mFileNotFoundError\u001b[0m                         Traceback (most recent call last)",
      "Input \u001b[1;32mIn [3]\u001b[0m, in \u001b[0;36m<cell line: 3>\u001b[1;34m()\u001b[0m\n\u001b[0;32m      1\u001b[0m \u001b[38;5;66;03m#df = pd.read_excel(r'C:\\Users\\RAJG\\Downloads\\New files Sales data Festive Sale\\New_Sheet_7.xlsx')\u001b[39;00m\n\u001b[0;32m      2\u001b[0m \u001b[38;5;66;03m#dataframe1 = pd.read_excel(\"New_Sheet_7.xlsx\")\u001b[39;00m\n\u001b[1;32m----> 3\u001b[0m df_oct \u001b[38;5;241m=\u001b[39m \u001b[43mpd\u001b[49m\u001b[38;5;241;43m.\u001b[39;49m\u001b[43mread_excel\u001b[49m\u001b[43m(\u001b[49m\u001b[38;5;124;43mr\u001b[39;49m\u001b[38;5;124;43m'\u001b[39;49m\u001b[38;5;124;43mC:\u001b[39;49m\u001b[38;5;124;43m\\\u001b[39;49m\u001b[38;5;124;43mUsers\u001b[39;49m\u001b[38;5;124;43m\\\u001b[39;49m\u001b[38;5;124;43mRAJG\u001b[39;49m\u001b[38;5;124;43m\\\u001b[39;49m\u001b[38;5;124;43mDownloads\u001b[39;49m\u001b[38;5;124;43m\\\u001b[39;49m\u001b[38;5;124;43mLeads to Sale\u001b[39;49m\u001b[38;5;124;43m\\\u001b[39;49m\u001b[38;5;124;43mSales Data\u001b[39;49m\u001b[38;5;124;43m\\\u001b[39;49m\u001b[38;5;124;43mECR_Oct1_Merged.xls\u001b[39;49m\u001b[38;5;124;43m'\u001b[39;49m\u001b[43m,\u001b[49m\u001b[43msheet_name\u001b[49m\u001b[38;5;241;43m=\u001b[39;49m\u001b[38;5;28;43;01mNone\u001b[39;49;00m\u001b[43m)\u001b[49m\n\u001b[0;32m      4\u001b[0m \u001b[38;5;28mprint\u001b[39m(df_oct)\n",
      "File \u001b[1;32m~\\Anaconda3\\lib\\site-packages\\pandas\\util\\_decorators.py:311\u001b[0m, in \u001b[0;36mdeprecate_nonkeyword_arguments.<locals>.decorate.<locals>.wrapper\u001b[1;34m(*args, **kwargs)\u001b[0m\n\u001b[0;32m    305\u001b[0m \u001b[38;5;28;01mif\u001b[39;00m \u001b[38;5;28mlen\u001b[39m(args) \u001b[38;5;241m>\u001b[39m num_allow_args:\n\u001b[0;32m    306\u001b[0m     warnings\u001b[38;5;241m.\u001b[39mwarn(\n\u001b[0;32m    307\u001b[0m         msg\u001b[38;5;241m.\u001b[39mformat(arguments\u001b[38;5;241m=\u001b[39marguments),\n\u001b[0;32m    308\u001b[0m         \u001b[38;5;167;01mFutureWarning\u001b[39;00m,\n\u001b[0;32m    309\u001b[0m         stacklevel\u001b[38;5;241m=\u001b[39mstacklevel,\n\u001b[0;32m    310\u001b[0m     )\n\u001b[1;32m--> 311\u001b[0m \u001b[38;5;28;01mreturn\u001b[39;00m func(\u001b[38;5;241m*\u001b[39margs, \u001b[38;5;241m*\u001b[39m\u001b[38;5;241m*\u001b[39mkwargs)\n",
      "File \u001b[1;32m~\\Anaconda3\\lib\\site-packages\\pandas\\io\\excel\\_base.py:457\u001b[0m, in \u001b[0;36mread_excel\u001b[1;34m(io, sheet_name, header, names, index_col, usecols, squeeze, dtype, engine, converters, true_values, false_values, skiprows, nrows, na_values, keep_default_na, na_filter, verbose, parse_dates, date_parser, thousands, decimal, comment, skipfooter, convert_float, mangle_dupe_cols, storage_options)\u001b[0m\n\u001b[0;32m    455\u001b[0m \u001b[38;5;28;01mif\u001b[39;00m \u001b[38;5;129;01mnot\u001b[39;00m \u001b[38;5;28misinstance\u001b[39m(io, ExcelFile):\n\u001b[0;32m    456\u001b[0m     should_close \u001b[38;5;241m=\u001b[39m \u001b[38;5;28;01mTrue\u001b[39;00m\n\u001b[1;32m--> 457\u001b[0m     io \u001b[38;5;241m=\u001b[39m \u001b[43mExcelFile\u001b[49m\u001b[43m(\u001b[49m\u001b[43mio\u001b[49m\u001b[43m,\u001b[49m\u001b[43m \u001b[49m\u001b[43mstorage_options\u001b[49m\u001b[38;5;241;43m=\u001b[39;49m\u001b[43mstorage_options\u001b[49m\u001b[43m,\u001b[49m\u001b[43m \u001b[49m\u001b[43mengine\u001b[49m\u001b[38;5;241;43m=\u001b[39;49m\u001b[43mengine\u001b[49m\u001b[43m)\u001b[49m\n\u001b[0;32m    458\u001b[0m \u001b[38;5;28;01melif\u001b[39;00m engine \u001b[38;5;129;01mand\u001b[39;00m engine \u001b[38;5;241m!=\u001b[39m io\u001b[38;5;241m.\u001b[39mengine:\n\u001b[0;32m    459\u001b[0m     \u001b[38;5;28;01mraise\u001b[39;00m \u001b[38;5;167;01mValueError\u001b[39;00m(\n\u001b[0;32m    460\u001b[0m         \u001b[38;5;124m\"\u001b[39m\u001b[38;5;124mEngine should not be specified when passing \u001b[39m\u001b[38;5;124m\"\u001b[39m\n\u001b[0;32m    461\u001b[0m         \u001b[38;5;124m\"\u001b[39m\u001b[38;5;124man ExcelFile - ExcelFile already has the engine set\u001b[39m\u001b[38;5;124m\"\u001b[39m\n\u001b[0;32m    462\u001b[0m     )\n",
      "File \u001b[1;32m~\\Anaconda3\\lib\\site-packages\\pandas\\io\\excel\\_base.py:1376\u001b[0m, in \u001b[0;36mExcelFile.__init__\u001b[1;34m(self, path_or_buffer, engine, storage_options)\u001b[0m\n\u001b[0;32m   1374\u001b[0m     ext \u001b[38;5;241m=\u001b[39m \u001b[38;5;124m\"\u001b[39m\u001b[38;5;124mxls\u001b[39m\u001b[38;5;124m\"\u001b[39m\n\u001b[0;32m   1375\u001b[0m \u001b[38;5;28;01melse\u001b[39;00m:\n\u001b[1;32m-> 1376\u001b[0m     ext \u001b[38;5;241m=\u001b[39m \u001b[43minspect_excel_format\u001b[49m\u001b[43m(\u001b[49m\n\u001b[0;32m   1377\u001b[0m \u001b[43m        \u001b[49m\u001b[43mcontent_or_path\u001b[49m\u001b[38;5;241;43m=\u001b[39;49m\u001b[43mpath_or_buffer\u001b[49m\u001b[43m,\u001b[49m\u001b[43m \u001b[49m\u001b[43mstorage_options\u001b[49m\u001b[38;5;241;43m=\u001b[39;49m\u001b[43mstorage_options\u001b[49m\n\u001b[0;32m   1378\u001b[0m \u001b[43m    \u001b[49m\u001b[43m)\u001b[49m\n\u001b[0;32m   1379\u001b[0m     \u001b[38;5;28;01mif\u001b[39;00m ext \u001b[38;5;129;01mis\u001b[39;00m \u001b[38;5;28;01mNone\u001b[39;00m:\n\u001b[0;32m   1380\u001b[0m         \u001b[38;5;28;01mraise\u001b[39;00m \u001b[38;5;167;01mValueError\u001b[39;00m(\n\u001b[0;32m   1381\u001b[0m             \u001b[38;5;124m\"\u001b[39m\u001b[38;5;124mExcel file format cannot be determined, you must specify \u001b[39m\u001b[38;5;124m\"\u001b[39m\n\u001b[0;32m   1382\u001b[0m             \u001b[38;5;124m\"\u001b[39m\u001b[38;5;124man engine manually.\u001b[39m\u001b[38;5;124m\"\u001b[39m\n\u001b[0;32m   1383\u001b[0m         )\n",
      "File \u001b[1;32m~\\Anaconda3\\lib\\site-packages\\pandas\\io\\excel\\_base.py:1250\u001b[0m, in \u001b[0;36minspect_excel_format\u001b[1;34m(content_or_path, storage_options)\u001b[0m\n\u001b[0;32m   1247\u001b[0m \u001b[38;5;28;01mif\u001b[39;00m \u001b[38;5;28misinstance\u001b[39m(content_or_path, \u001b[38;5;28mbytes\u001b[39m):\n\u001b[0;32m   1248\u001b[0m     content_or_path \u001b[38;5;241m=\u001b[39m BytesIO(content_or_path)\n\u001b[1;32m-> 1250\u001b[0m \u001b[38;5;28;01mwith\u001b[39;00m \u001b[43mget_handle\u001b[49m\u001b[43m(\u001b[49m\n\u001b[0;32m   1251\u001b[0m \u001b[43m    \u001b[49m\u001b[43mcontent_or_path\u001b[49m\u001b[43m,\u001b[49m\u001b[43m \u001b[49m\u001b[38;5;124;43m\"\u001b[39;49m\u001b[38;5;124;43mrb\u001b[39;49m\u001b[38;5;124;43m\"\u001b[39;49m\u001b[43m,\u001b[49m\u001b[43m \u001b[49m\u001b[43mstorage_options\u001b[49m\u001b[38;5;241;43m=\u001b[39;49m\u001b[43mstorage_options\u001b[49m\u001b[43m,\u001b[49m\u001b[43m \u001b[49m\u001b[43mis_text\u001b[49m\u001b[38;5;241;43m=\u001b[39;49m\u001b[38;5;28;43;01mFalse\u001b[39;49;00m\n\u001b[0;32m   1252\u001b[0m \u001b[43m\u001b[49m\u001b[43m)\u001b[49m \u001b[38;5;28;01mas\u001b[39;00m handle:\n\u001b[0;32m   1253\u001b[0m     stream \u001b[38;5;241m=\u001b[39m handle\u001b[38;5;241m.\u001b[39mhandle\n\u001b[0;32m   1254\u001b[0m     stream\u001b[38;5;241m.\u001b[39mseek(\u001b[38;5;241m0\u001b[39m)\n",
      "File \u001b[1;32m~\\Anaconda3\\lib\\site-packages\\pandas\\io\\common.py:798\u001b[0m, in \u001b[0;36mget_handle\u001b[1;34m(path_or_buf, mode, encoding, compression, memory_map, is_text, errors, storage_options)\u001b[0m\n\u001b[0;32m    789\u001b[0m         handle \u001b[38;5;241m=\u001b[39m \u001b[38;5;28mopen\u001b[39m(\n\u001b[0;32m    790\u001b[0m             handle,\n\u001b[0;32m    791\u001b[0m             ioargs\u001b[38;5;241m.\u001b[39mmode,\n\u001b[1;32m   (...)\u001b[0m\n\u001b[0;32m    794\u001b[0m             newline\u001b[38;5;241m=\u001b[39m\u001b[38;5;124m\"\u001b[39m\u001b[38;5;124m\"\u001b[39m,\n\u001b[0;32m    795\u001b[0m         )\n\u001b[0;32m    796\u001b[0m     \u001b[38;5;28;01melse\u001b[39;00m:\n\u001b[0;32m    797\u001b[0m         \u001b[38;5;66;03m# Binary mode\u001b[39;00m\n\u001b[1;32m--> 798\u001b[0m         handle \u001b[38;5;241m=\u001b[39m \u001b[38;5;28;43mopen\u001b[39;49m\u001b[43m(\u001b[49m\u001b[43mhandle\u001b[49m\u001b[43m,\u001b[49m\u001b[43m \u001b[49m\u001b[43mioargs\u001b[49m\u001b[38;5;241;43m.\u001b[39;49m\u001b[43mmode\u001b[49m\u001b[43m)\u001b[49m\n\u001b[0;32m    799\u001b[0m     handles\u001b[38;5;241m.\u001b[39mappend(handle)\n\u001b[0;32m    801\u001b[0m \u001b[38;5;66;03m# Convert BytesIO or file objects passed with an encoding\u001b[39;00m\n",
      "\u001b[1;31mFileNotFoundError\u001b[0m: [Errno 2] No such file or directory: 'C:\\\\Users\\\\RAJG\\\\Downloads\\\\Leads to Sale\\\\Sales Data\\\\ECR_Oct1_Merged.xls'"
     ]
    }
   ],
   "source": [
    "#df = pd.read_excel(r'C:\\Users\\RAJG\\Downloads\\New files Sales data Festive Sale\\New_Sheet_7.xlsx')\n",
    "#dataframe1 = pd.read_excel(\"New_Sheet_7.xlsx\")\n",
    "df_oct = pd.read_excel(r'C:\\Users\\RAJG\\Downloads\\Leads to Sale\\Sales Data\\ECR_Oct1_Merged.xls',sheet_name=None)\n",
    "print(df_oct)\n"
   ]
  },
  {
   "cell_type": "code",
   "execution_count": 2,
   "id": "2288d64a",
   "metadata": {},
   "outputs": [
    {
     "ename": "NameError",
     "evalue": "name 'df_oct' is not defined",
     "output_type": "error",
     "traceback": [
      "\u001b[1;31m---------------------------------------------------------------------------\u001b[0m",
      "\u001b[1;31mNameError\u001b[0m                                 Traceback (most recent call last)",
      "Input \u001b[1;32mIn [2]\u001b[0m, in \u001b[0;36m<cell line: 1>\u001b[1;34m()\u001b[0m\n\u001b[1;32m----> 1\u001b[0m \u001b[38;5;28mprint\u001b[39m(\u001b[43mdf_oct\u001b[49m)\n\u001b[0;32m      2\u001b[0m df11\u001b[38;5;241m=\u001b[39m pd\u001b[38;5;241m.\u001b[39mDataFrame(df_oct)\n",
      "\u001b[1;31mNameError\u001b[0m: name 'df_oct' is not defined"
     ]
    }
   ],
   "source": [
    "\n"
   ]
  },
  {
   "cell_type": "code",
   "execution_count": 6,
   "id": "65921f55",
   "metadata": {
    "scrolled": true
   },
   "outputs": [
    {
     "name": "stdout",
     "output_type": "stream",
     "text": [
      "                  ORGANIZATION_NAME             INVC_DT  \\\n",
      "0             64709 - VISHAL MOTORS 2022-10-31 23:34:06   \n",
      "1             11205 - GALAXY MOTORS 2022-10-31 23:17:15   \n",
      "2       10840 - RAJDEEP AUTOMOBILES 2022-10-31 23:09:36   \n",
      "3         10244 - HIMMAT JAI MOTORS 2022-10-31 22:13:26   \n",
      "4             11437 - SHIVAM MOTORS 2022-10-31 21:56:29   \n",
      "...                             ...                 ...   \n",
      "208103     11101 - KARAN ENTERPRISE 2022-10-23 18:16:25   \n",
      "208104            64859 - S R Autos 2022-10-26 12:35:25   \n",
      "208105     11101 - KARAN ENTERPRISE 2022-10-22 22:06:41   \n",
      "208106     11101 - KARAN ENTERPRISE 2022-10-22 21:45:42   \n",
      "208107     11101 - KARAN ENTERPRISE 2022-10-16 13:13:25   \n",
      "\n",
      "                            CONTACT_NAME    CELL_NUM       ZONAL_OFFICE_NAME  \\\n",
      "0                            DULARI DEVI  9151242563    Zonal Office - North   \n",
      "1                      VIJAY KUMAR GOYAL  7611107508  Zonal Office - Central   \n",
      "2       SUNILKUMAR  SOBARANSINH KUSHWAHA  8141621887     Zonal Office - West   \n",
      "3                          ROHIT BISHNOI  6350167100  Zonal Office - Central   \n",
      "4                           RAKESH SINGH  9111816258  Zonal Office - Central   \n",
      "...                                  ...         ...                     ...   \n",
      "208103                     SUNIL VADECHA  6351130214     Zonal Office - West   \n",
      "208104                     SURINDER KAUR  9779658113    Zonal Office - North   \n",
      "208105                     KAMLESH VALVA  9586733963     Zonal Office - West   \n",
      "208106                     MANISH PADAJI  9974322712     Zonal Office - West   \n",
      "208107                     BRAJESH SINGH  9824263273     Zonal Office - West   \n",
      "\n",
      "                AREA_OFFICE_NAME  \n",
      "0         Area Office - Varanasi  \n",
      "1           Area Office - Raipur  \n",
      "2         Area Office - Vadodara  \n",
      "3           Area Office - Jaipur  \n",
      "4           Area Office - Bhopal  \n",
      "...                          ...  \n",
      "208103    Area Office - Vadodara  \n",
      "208104  Area Office - Chandigarh  \n",
      "208105    Area Office - Vadodara  \n",
      "208106    Area Office - Vadodara  \n",
      "208107    Area Office - Vadodara  \n",
      "\n",
      "[208108 rows x 6 columns]\n"
     ]
    }
   ],
   "source": [
    "df_oct_m = pd.concat(pd.read_excel(r'C:\\Users\\RAJG\\Downloads\\Leads to Sale\\Sales Data\\ECR_Oct1.xls',sheet_name=None),ignore_index=True)\n",
    "print(df_oct_m)"
   ]
  },
  {
   "cell_type": "code",
   "execution_count": 8,
   "id": "fcf9bd56",
   "metadata": {
    "scrolled": true
   },
   "outputs": [
    {
     "name": "stdout",
     "output_type": "stream",
     "text": [
      "DataFrame is written to Excel File successfullyyyyyy.\n"
     ]
    }
   ],
   "source": [
    "# determining the name of the file\n",
    "file_name = 'ECR_Oct1_Merged.xlsx'\n",
    "\n",
    "# saving the excel\n",
    "df_oct_m.to_excel(file_name)\n",
    "print('DataFrame is written to Excel File successfullyyyyyy.')"
   ]
  },
  {
   "cell_type": "markdown",
   "id": "3f71de3a",
   "metadata": {},
   "source": [
    "\n",
    "# Case II\n"
   ]
  },
  {
   "cell_type": "code",
   "execution_count": 4,
   "id": "63d23ac2",
   "metadata": {},
   "outputs": [
    {
     "name": "stdout",
     "output_type": "stream",
     "text": [
      "{'Sheet 1':                     ORGANIZATION_NAME             INVC_DT  \\\n",
      "0      63209 - M/s Shakti Automobiles 2022-11-25 15:34:50   \n",
      "1              67082 - MAHADEV MOTORS 2022-11-15 14:25:06   \n",
      "2              67082 - MAHADEV MOTORS 2022-11-05 13:18:25   \n",
      "3              67082 - MAHADEV MOTORS 2022-11-11 11:24:32   \n",
      "4       66249 - SHREYASHI AUTOMOBILES 2022-11-03 11:26:26   \n",
      "...                               ...                 ...   \n",
      "64994  60843 - CHAURASIYA AUTOMOBILES 2022-11-16 13:39:13   \n",
      "64995             10146 - A.S. MOTORS 2022-11-21 16:14:38   \n",
      "64996             10146 - A.S. MOTORS 2022-11-07 15:52:22   \n",
      "64997        10751 - SRI SHYAM MOTORS 2022-11-24 16:55:23   \n",
      "64998      60776 - Hitesh Automobiles 2022-11-29 14:27:35   \n",
      "\n",
      "                    CONTACT_NAME    CELL_NUM       ZONAL_OFFICE_NAME  \\\n",
      "0                   GOLDI BHARTI  6391505388    Zonal Office - North   \n",
      "1                   DEEPAK KUMAR  7260902840     Zonal Office - East   \n",
      "2                 ABHINESH KUMAR  6201131187     Zonal Office - East   \n",
      "3               RAJ RANJIT KUMAR  9973031194     Zonal Office - East   \n",
      "4            MOHAMMAD JAHUR ALAM  7061004907     Zonal Office - East   \n",
      "...                          ...         ...                     ...   \n",
      "64994                MOHIT BAGRI  7509812606  Zonal Office - Central   \n",
      "64995  GOVINDHASAMI NARAYANASAMI  9787941524    Zonal Office - South   \n",
      "64996                   SURESH S  6381179326    Zonal Office - South   \n",
      "64997             PRASANTA SINGH  7008229740     Zonal Office - East   \n",
      "64998              DHARAM .VEER.  8278575492    Zonal Office - North   \n",
      "\n",
      "                AREA_OFFICE_NAME  \n",
      "0          Area Office - Lucknow  \n",
      "1            Area Office - Patna  \n",
      "2            Area Office - Patna  \n",
      "3            Area Office - Patna  \n",
      "4            Area Office - Patna  \n",
      "...                          ...  \n",
      "64994       Area Office - Bhopal  \n",
      "64995      Area Office - Chennai  \n",
      "64996      Area Office - Chennai  \n",
      "64997  Area Office - Bhubneshwar  \n",
      "64998      Area Office - Haryana  \n",
      "\n",
      "[64999 rows x 6 columns], 'Sheet 2':                ORGANIZATION_NAME             INVC_DT       CONTACT_NAME  \\\n",
      "0        66877 - MANGALAM MOTORS 2022-11-30 14:02:10      DARSHAN DAWAR   \n",
      "1        21680 - J P AUTOMOBILES 2022-11-30 13:22:50        BHUPENDRA .   \n",
      "2            10146 - A.S. MOTORS 2022-11-30 12:30:49     NEHEMIYAJOSH D   \n",
      "3         10367 - CENTRAL MOTORS 2022-11-22 17:44:33  ASHOK KUMAR MARKO   \n",
      "4         10367 - CENTRAL MOTORS 2022-11-17 16:46:47        POOJA RAJAK   \n",
      "...                          ...                 ...                ...   \n",
      "64994  22064 - KUMAR AUTOMOBILES 2022-11-24 13:48:17         REETA DEVI   \n",
      "64995    10995 - BHARATH MOTORS. 2022-11-30 22:10:16      EDWIN KUMAR K   \n",
      "64996  11770 - VIJAY AUTOMOBILES 2022-11-25 17:45:49         MOHANRAJ M   \n",
      "64997  20711 - SHYAM AUTOMOBILES 2022-11-21 17:21:30      RADHIKA YADAV   \n",
      "64998  20711 - SHYAM AUTOMOBILES 2022-11-09 18:09:50           ALAHAM .   \n",
      "\n",
      "         CELL_NUM       ZONAL_OFFICE_NAME        AREA_OFFICE_NAME  \n",
      "0      9174692694  Zonal Office - Central    Area Office - Bhopal  \n",
      "1      8865875859    Zonal Office - North     Area Office - Noida  \n",
      "2      8668160317    Zonal Office - South   Area Office - Chennai  \n",
      "3      9300493129  Zonal Office - Central    Area Office - Bhopal  \n",
      "4      9343436432  Zonal Office - Central    Area Office - Bhopal  \n",
      "...           ...                     ...                     ...  \n",
      "64994  8755893773    Zonal Office - North   Area Office - Lucknow  \n",
      "64995  9489175033    Zonal Office - South   Area Office - Chennai  \n",
      "64996  6369238066    Zonal Office - South   Area Office - Chennai  \n",
      "64997  6392496631    Zonal Office - North  Area Office - Varanasi  \n",
      "64998  8009379693    Zonal Office - North  Area Office - Varanasi  \n",
      "\n",
      "[64999 rows x 6 columns], 'Sheet 3':                     ORGANIZATION_NAME             INVC_DT  \\\n",
      "0             21556 - B B AUTOMOBILES 2022-11-05 12:10:05   \n",
      "1      11616 - KHANDELWAL AUTOMOBILES 2022-11-25 11:49:54   \n",
      "2              10149 - THE R P MOTORS 2022-11-01 17:38:23   \n",
      "3              10149 - THE R P MOTORS 2022-11-26 11:59:28   \n",
      "4       11952 - SHREE R C AUTOMOBILES 2022-11-09 10:17:32   \n",
      "...                               ...                 ...   \n",
      "64994        10071 - RATANDEEP MOTORS 2022-11-15 14:37:25   \n",
      "64995          66653 - SWASTIK MOTORS 2022-11-23 11:04:23   \n",
      "64996          66653 - SWASTIK MOTORS 2022-11-29 12:09:54   \n",
      "64997          66653 - SWASTIK MOTORS 2022-11-05 10:55:33   \n",
      "64998        10071 - RATANDEEP MOTORS 2022-11-20 14:13:19   \n",
      "\n",
      "                  CONTACT_NAME    CELL_NUM       ZONAL_OFFICE_NAME  \\\n",
      "0           ARVIND KUMR SAHANI  7009236525    Zonal Office - North   \n",
      "1                  JISHAN KHAN  9887829961    Zonal Office - North   \n",
      "2                   S RAMASAMY  6380436807    Zonal Office - South   \n",
      "3                   G BUVANESH  9751429110    Zonal Office - South   \n",
      "4             ABHIRANJAN KUMAR  7033035361     Zonal Office - East   \n",
      "...                        ...         ...                     ...   \n",
      "64994  ASHOK KUMAR SHRIVASTAVA  9984188385    Zonal Office - North   \n",
      "64995             DHIRAP SINGH  7805998452  Zonal Office - Central   \n",
      "64996          RAJ KUMAR LOHAR  8827469153  Zonal Office - Central   \n",
      "64997           SANTOSH KUNWAR  7773863946  Zonal Office - Central   \n",
      "64998      SANJAY KUMAR MAURYA  9161971219    Zonal Office - North   \n",
      "\n",
      "             AREA_OFFICE_NAME  \n",
      "0      Area Office - Varanasi  \n",
      "1       Area Office - Lucknow  \n",
      "2       Area Office - Chennai  \n",
      "3       Area Office - Chennai  \n",
      "4         Area Office - Patna  \n",
      "...                       ...  \n",
      "64994   Area Office - Lucknow  \n",
      "64995    Area Office - Bhopal  \n",
      "64996    Area Office - Bhopal  \n",
      "64997    Area Office - Bhopal  \n",
      "64998   Area Office - Lucknow  \n",
      "\n",
      "[64999 rows x 6 columns], 'Sheet 4':                              ORGANIZATION_NAME             INVC_DT  \\\n",
      "0                     10071 - RATANDEEP MOTORS 2022-11-16 18:19:59   \n",
      "1      66545 - M/S SHREE VAISHNAVI AUTOMOBILES 2022-11-30 17:32:17   \n",
      "2      66545 - M/S SHREE VAISHNAVI AUTOMOBILES 2022-11-28 15:55:29   \n",
      "3                          22341 - HARIOM AUTO 2022-11-30 13:26:45   \n",
      "4                          22341 - HARIOM AUTO 2022-11-10 13:30:29   \n",
      "...                                        ...                 ...   \n",
      "64994                   22766 - ASHIRWAD AUTOS 2022-11-12 16:58:52   \n",
      "64995                    22785 - KUSHWAHA AUTO 2022-11-18 16:15:06   \n",
      "64996                     67420 - DIXIT MOTORS 2022-11-07 13:53:51   \n",
      "64997            66486 - VEER TEJA AUTOMOBILES 2022-11-11 18:40:31   \n",
      "64998            66486 - VEER TEJA AUTOMOBILES 2022-11-11 12:34:49   \n",
      "\n",
      "           CONTACT_NAME    CELL_NUM       ZONAL_OFFICE_NAME  \\\n",
      "0         SONIYA BHARTI  8081685132    Zonal Office - North   \n",
      "1             BAJU NAIK  7681868513     Zonal Office - East   \n",
      "2         BALARAM MALIK  9692010828     Zonal Office - East   \n",
      "3        ANJALI RAJBHAR  9503697107    Zonal Office - North   \n",
      "4            ANNU YADAV  9335058686    Zonal Office - North   \n",
      "...                 ...         ...                     ...   \n",
      "64994          BABU RAM  9784568942  Zonal Office - Central   \n",
      "64995           SARIK .  9569957931    Zonal Office - North   \n",
      "64996       VIJAY SINGH  6377789435  Zonal Office - Central   \n",
      "64997  MADHUSUDAN BHATI  8503866040  Zonal Office - Central   \n",
      "64998        SULATAN ..  9336457311  Zonal Office - Central   \n",
      "\n",
      "                AREA_OFFICE_NAME  \n",
      "0          Area Office - Lucknow  \n",
      "1      Area Office - Bhubneshwar  \n",
      "2      Area Office - Bhubneshwar  \n",
      "3         Area Office - Varanasi  \n",
      "4         Area Office - Varanasi  \n",
      "...                          ...  \n",
      "64994       Area Office - Jaipur  \n",
      "64995      Area Office - Lucknow  \n",
      "64996       Area Office - Jaipur  \n",
      "64997       Area Office - Jaipur  \n",
      "64998       Area Office - Jaipur  \n",
      "\n",
      "[64999 rows x 6 columns], 'Sheet 5':                          ORGANIZATION_NAME             INVC_DT  \\\n",
      "0                     11671 - ANAND MOTORS 2022-11-16 10:54:20   \n",
      "1                     11671 - ANAND MOTORS 2022-11-12 13:09:21   \n",
      "2                     11671 - ANAND MOTORS 2022-11-24 17:21:55   \n",
      "3                     11671 - ANAND MOTORS 2022-11-29 16:26:10   \n",
      "4      11207 - RAJARAM DHARNIA AUTOMOBILES 2022-11-01 12:05:59   \n",
      "...                                    ...                 ...   \n",
      "38168                11281 - BRIGHT MOTORS 2022-11-23 14:41:49   \n",
      "38169                11281 - BRIGHT MOTORS 2022-11-04 16:10:53   \n",
      "38170                11281 - BRIGHT MOTORS 2022-11-14 15:56:50   \n",
      "38171                11281 - BRIGHT MOTORS 2022-11-28 16:37:50   \n",
      "38172                   63462 - RAJ MOTORS 2022-11-17 16:56:51   \n",
      "\n",
      "                        CONTACT_NAME    CELL_NUM       ZONAL_OFFICE_NAME  \\\n",
      "0                    SHARANABASAVA .  9743788208    Zonal Office - South   \n",
      "1                   MOHAMMAD ISHAK .  9880360673    Zonal Office - South   \n",
      "2                           RAMESH .  6364232687    Zonal Office - South   \n",
      "3                   BASAVARAJ KARADI  9632432717    Zonal Office - South   \n",
      "4      GAJENDRA SINGH C/O HARI SINGH  9982547776  Zonal Office - Central   \n",
      "...                              ...         ...                     ...   \n",
      "38168              GOVINDA CHOWDHURY  9883094228    Zonal Office - North   \n",
      "38169                    TARUN KUMAR  8887593600    Zonal Office - North   \n",
      "38170                  AVDHESH RAWAT  9793694071    Zonal Office - North   \n",
      "38171                     ANIL KUMAR  9792362480    Zonal Office - North   \n",
      "38172                    SHEKH CHOTU  9060719197     Zonal Office - East   \n",
      "\n",
      "              AREA_OFFICE_NAME  \n",
      "0      Area Office - Bengaluru  \n",
      "1      Area Office - Bengaluru  \n",
      "2      Area Office - Bengaluru  \n",
      "3      Area Office - Bengaluru  \n",
      "4         Area Office - Jaipur  \n",
      "...                        ...  \n",
      "38168    Area Office - Lucknow  \n",
      "38169    Area Office - Lucknow  \n",
      "38170    Area Office - Lucknow  \n",
      "38171    Area Office - Lucknow  \n",
      "38172      Area Office - Patna  \n",
      "\n",
      "[38173 rows x 6 columns]}\n"
     ]
    }
   ],
   "source": [
    "#df = pd.read_excel(r'C:\\Users\\RAJG\\Downloads\\New files Sales data Festive Sale\\New_Sheet_7.xlsx')\n",
    "#dataframe1 = pd.read_excel(\"New_Sheet_7.xlsx\")\n",
    "df_nov = pd.read_excel(r'C:\\Users\\RAJG\\Downloads\\Leads to Sale\\Sales Data\\ECR_Nov.xls',sheet_name=None)\n",
    "print(df_nov)"
   ]
  },
  {
   "cell_type": "code",
   "execution_count": 5,
   "id": "b30dafc2",
   "metadata": {},
   "outputs": [
    {
     "ename": "ValueError",
     "evalue": "If using all scalar values, you must pass an index",
     "output_type": "error",
     "traceback": [
      "\u001b[1;31m---------------------------------------------------------------------------\u001b[0m",
      "\u001b[1;31mValueError\u001b[0m                                Traceback (most recent call last)",
      "Input \u001b[1;32mIn [5]\u001b[0m, in \u001b[0;36m<cell line: 1>\u001b[1;34m()\u001b[0m\n\u001b[1;32m----> 1\u001b[0m df11\u001b[38;5;241m=\u001b[39m \u001b[43mpd\u001b[49m\u001b[38;5;241;43m.\u001b[39;49m\u001b[43mDataFrame\u001b[49m\u001b[43m(\u001b[49m\u001b[43mdf_nov\u001b[49m\u001b[43m)\u001b[49m\n\u001b[0;32m      2\u001b[0m df_nov\n",
      "File \u001b[1;32m~\\Anaconda3\\lib\\site-packages\\pandas\\core\\frame.py:636\u001b[0m, in \u001b[0;36mDataFrame.__init__\u001b[1;34m(self, data, index, columns, dtype, copy)\u001b[0m\n\u001b[0;32m    630\u001b[0m     mgr \u001b[38;5;241m=\u001b[39m \u001b[38;5;28mself\u001b[39m\u001b[38;5;241m.\u001b[39m_init_mgr(\n\u001b[0;32m    631\u001b[0m         data, axes\u001b[38;5;241m=\u001b[39m{\u001b[38;5;124m\"\u001b[39m\u001b[38;5;124mindex\u001b[39m\u001b[38;5;124m\"\u001b[39m: index, \u001b[38;5;124m\"\u001b[39m\u001b[38;5;124mcolumns\u001b[39m\u001b[38;5;124m\"\u001b[39m: columns}, dtype\u001b[38;5;241m=\u001b[39mdtype, copy\u001b[38;5;241m=\u001b[39mcopy\n\u001b[0;32m    632\u001b[0m     )\n\u001b[0;32m    634\u001b[0m \u001b[38;5;28;01melif\u001b[39;00m \u001b[38;5;28misinstance\u001b[39m(data, \u001b[38;5;28mdict\u001b[39m):\n\u001b[0;32m    635\u001b[0m     \u001b[38;5;66;03m# GH#38939 de facto copy defaults to False only in non-dict cases\u001b[39;00m\n\u001b[1;32m--> 636\u001b[0m     mgr \u001b[38;5;241m=\u001b[39m \u001b[43mdict_to_mgr\u001b[49m\u001b[43m(\u001b[49m\u001b[43mdata\u001b[49m\u001b[43m,\u001b[49m\u001b[43m \u001b[49m\u001b[43mindex\u001b[49m\u001b[43m,\u001b[49m\u001b[43m \u001b[49m\u001b[43mcolumns\u001b[49m\u001b[43m,\u001b[49m\u001b[43m \u001b[49m\u001b[43mdtype\u001b[49m\u001b[38;5;241;43m=\u001b[39;49m\u001b[43mdtype\u001b[49m\u001b[43m,\u001b[49m\u001b[43m \u001b[49m\u001b[43mcopy\u001b[49m\u001b[38;5;241;43m=\u001b[39;49m\u001b[43mcopy\u001b[49m\u001b[43m,\u001b[49m\u001b[43m \u001b[49m\u001b[43mtyp\u001b[49m\u001b[38;5;241;43m=\u001b[39;49m\u001b[43mmanager\u001b[49m\u001b[43m)\u001b[49m\n\u001b[0;32m    637\u001b[0m \u001b[38;5;28;01melif\u001b[39;00m \u001b[38;5;28misinstance\u001b[39m(data, ma\u001b[38;5;241m.\u001b[39mMaskedArray):\n\u001b[0;32m    638\u001b[0m     \u001b[38;5;28;01mimport\u001b[39;00m \u001b[38;5;21;01mnumpy\u001b[39;00m\u001b[38;5;21;01m.\u001b[39;00m\u001b[38;5;21;01mma\u001b[39;00m\u001b[38;5;21;01m.\u001b[39;00m\u001b[38;5;21;01mmrecords\u001b[39;00m \u001b[38;5;28;01mas\u001b[39;00m \u001b[38;5;21;01mmrecords\u001b[39;00m\n",
      "File \u001b[1;32m~\\Anaconda3\\lib\\site-packages\\pandas\\core\\internals\\construction.py:502\u001b[0m, in \u001b[0;36mdict_to_mgr\u001b[1;34m(data, index, columns, dtype, typ, copy)\u001b[0m\n\u001b[0;32m    494\u001b[0m     arrays \u001b[38;5;241m=\u001b[39m [\n\u001b[0;32m    495\u001b[0m         x\n\u001b[0;32m    496\u001b[0m         \u001b[38;5;28;01mif\u001b[39;00m \u001b[38;5;129;01mnot\u001b[39;00m \u001b[38;5;28mhasattr\u001b[39m(x, \u001b[38;5;124m\"\u001b[39m\u001b[38;5;124mdtype\u001b[39m\u001b[38;5;124m\"\u001b[39m) \u001b[38;5;129;01mor\u001b[39;00m \u001b[38;5;129;01mnot\u001b[39;00m \u001b[38;5;28misinstance\u001b[39m(x\u001b[38;5;241m.\u001b[39mdtype, ExtensionDtype)\n\u001b[0;32m    497\u001b[0m         \u001b[38;5;28;01melse\u001b[39;00m x\u001b[38;5;241m.\u001b[39mcopy()\n\u001b[0;32m    498\u001b[0m         \u001b[38;5;28;01mfor\u001b[39;00m x \u001b[38;5;129;01min\u001b[39;00m arrays\n\u001b[0;32m    499\u001b[0m     ]\n\u001b[0;32m    500\u001b[0m     \u001b[38;5;66;03m# TODO: can we get rid of the dt64tz special case above?\u001b[39;00m\n\u001b[1;32m--> 502\u001b[0m \u001b[38;5;28;01mreturn\u001b[39;00m \u001b[43marrays_to_mgr\u001b[49m\u001b[43m(\u001b[49m\u001b[43marrays\u001b[49m\u001b[43m,\u001b[49m\u001b[43m \u001b[49m\u001b[43mcolumns\u001b[49m\u001b[43m,\u001b[49m\u001b[43m \u001b[49m\u001b[43mindex\u001b[49m\u001b[43m,\u001b[49m\u001b[43m \u001b[49m\u001b[43mdtype\u001b[49m\u001b[38;5;241;43m=\u001b[39;49m\u001b[43mdtype\u001b[49m\u001b[43m,\u001b[49m\u001b[43m \u001b[49m\u001b[43mtyp\u001b[49m\u001b[38;5;241;43m=\u001b[39;49m\u001b[43mtyp\u001b[49m\u001b[43m,\u001b[49m\u001b[43m \u001b[49m\u001b[43mconsolidate\u001b[49m\u001b[38;5;241;43m=\u001b[39;49m\u001b[43mcopy\u001b[49m\u001b[43m)\u001b[49m\n",
      "File \u001b[1;32m~\\Anaconda3\\lib\\site-packages\\pandas\\core\\internals\\construction.py:120\u001b[0m, in \u001b[0;36marrays_to_mgr\u001b[1;34m(arrays, columns, index, dtype, verify_integrity, typ, consolidate)\u001b[0m\n\u001b[0;32m    117\u001b[0m \u001b[38;5;28;01mif\u001b[39;00m verify_integrity:\n\u001b[0;32m    118\u001b[0m     \u001b[38;5;66;03m# figure out the index, if necessary\u001b[39;00m\n\u001b[0;32m    119\u001b[0m     \u001b[38;5;28;01mif\u001b[39;00m index \u001b[38;5;129;01mis\u001b[39;00m \u001b[38;5;28;01mNone\u001b[39;00m:\n\u001b[1;32m--> 120\u001b[0m         index \u001b[38;5;241m=\u001b[39m \u001b[43m_extract_index\u001b[49m\u001b[43m(\u001b[49m\u001b[43marrays\u001b[49m\u001b[43m)\u001b[49m\n\u001b[0;32m    121\u001b[0m     \u001b[38;5;28;01melse\u001b[39;00m:\n\u001b[0;32m    122\u001b[0m         index \u001b[38;5;241m=\u001b[39m ensure_index(index)\n",
      "File \u001b[1;32m~\\Anaconda3\\lib\\site-packages\\pandas\\core\\internals\\construction.py:664\u001b[0m, in \u001b[0;36m_extract_index\u001b[1;34m(data)\u001b[0m\n\u001b[0;32m    661\u001b[0m         \u001b[38;5;28;01mraise\u001b[39;00m \u001b[38;5;167;01mValueError\u001b[39;00m(\u001b[38;5;124m\"\u001b[39m\u001b[38;5;124mPer-column arrays must each be 1-dimensional\u001b[39m\u001b[38;5;124m\"\u001b[39m)\n\u001b[0;32m    663\u001b[0m \u001b[38;5;28;01mif\u001b[39;00m \u001b[38;5;129;01mnot\u001b[39;00m indexes \u001b[38;5;129;01mand\u001b[39;00m \u001b[38;5;129;01mnot\u001b[39;00m raw_lengths:\n\u001b[1;32m--> 664\u001b[0m     \u001b[38;5;28;01mraise\u001b[39;00m \u001b[38;5;167;01mValueError\u001b[39;00m(\u001b[38;5;124m\"\u001b[39m\u001b[38;5;124mIf using all scalar values, you must pass an index\u001b[39m\u001b[38;5;124m\"\u001b[39m)\n\u001b[0;32m    666\u001b[0m \u001b[38;5;28;01melif\u001b[39;00m have_series:\n\u001b[0;32m    667\u001b[0m     index \u001b[38;5;241m=\u001b[39m union_indexes(indexes)\n",
      "\u001b[1;31mValueError\u001b[0m: If using all scalar values, you must pass an index"
     ]
    }
   ],
   "source": [
    "df11= pd.DataFrame(df_nov)\n",
    "df_nov"
   ]
  },
  {
   "cell_type": "code",
   "execution_count": 10,
   "id": "e42a2e4b",
   "metadata": {
    "scrolled": false
   },
   "outputs": [
    {
     "name": "stdout",
     "output_type": "stream",
     "text": [
      "WARNING *** OLE2 inconsistency: SSCS size is 0 but SSAT size is non-zero\n",
      "                     ORGANIZATION_NAME             INVC_DT  \\\n",
      "0       63209 - M/s Shakti Automobiles 2022-11-25 15:34:50   \n",
      "1               67082 - MAHADEV MOTORS 2022-11-15 14:25:06   \n",
      "2               67082 - MAHADEV MOTORS 2022-11-05 13:18:25   \n",
      "3               67082 - MAHADEV MOTORS 2022-11-11 11:24:32   \n",
      "4        66249 - SHREYASHI AUTOMOBILES 2022-11-03 11:26:26   \n",
      "...                                ...                 ...   \n",
      "298164           11281 - BRIGHT MOTORS 2022-11-23 14:41:49   \n",
      "298165           11281 - BRIGHT MOTORS 2022-11-04 16:10:53   \n",
      "298166           11281 - BRIGHT MOTORS 2022-11-14 15:56:50   \n",
      "298167           11281 - BRIGHT MOTORS 2022-11-28 16:37:50   \n",
      "298168              63462 - RAJ MOTORS 2022-11-17 16:56:51   \n",
      "\n",
      "               CONTACT_NAME    CELL_NUM     ZONAL_OFFICE_NAME  \\\n",
      "0              GOLDI BHARTI  6391505388  Zonal Office - North   \n",
      "1              DEEPAK KUMAR  7260902840   Zonal Office - East   \n",
      "2            ABHINESH KUMAR  6201131187   Zonal Office - East   \n",
      "3          RAJ RANJIT KUMAR  9973031194   Zonal Office - East   \n",
      "4       MOHAMMAD JAHUR ALAM  7061004907   Zonal Office - East   \n",
      "...                     ...         ...                   ...   \n",
      "298164    GOVINDA CHOWDHURY  9883094228  Zonal Office - North   \n",
      "298165          TARUN KUMAR  8887593600  Zonal Office - North   \n",
      "298166        AVDHESH RAWAT  9793694071  Zonal Office - North   \n",
      "298167           ANIL KUMAR  9792362480  Zonal Office - North   \n",
      "298168          SHEKH CHOTU  9060719197   Zonal Office - East   \n",
      "\n",
      "             AREA_OFFICE_NAME  \n",
      "0       Area Office - Lucknow  \n",
      "1         Area Office - Patna  \n",
      "2         Area Office - Patna  \n",
      "3         Area Office - Patna  \n",
      "4         Area Office - Patna  \n",
      "...                       ...  \n",
      "298164  Area Office - Lucknow  \n",
      "298165  Area Office - Lucknow  \n",
      "298166  Area Office - Lucknow  \n",
      "298167  Area Office - Lucknow  \n",
      "298168    Area Office - Patna  \n",
      "\n",
      "[298169 rows x 6 columns]\n"
     ]
    }
   ],
   "source": [
    "df_nov_m = pd.concat(pd.read_excel(r'C:\\Users\\RAJG\\Downloads\\Leads to Sale\\Sales Data\\ECR_Nov.xls',sheet_name=None),ignore_index=True)\n",
    "print(df_nov_m)"
   ]
  },
  {
   "cell_type": "code",
   "execution_count": 13,
   "id": "3e02c17a",
   "metadata": {},
   "outputs": [
    {
     "name": "stdout",
     "output_type": "stream",
     "text": [
      "DataFrame is written to Excel File successfullyyyyyy.\n"
     ]
    }
   ],
   "source": [
    "# determining the name of the file\n",
    "file_name = 'ECR_Nov_Merged.xlsx'\n",
    "\n",
    "# saving the excel\n",
    "df_nov_m.to_excel(file_name)\n",
    "print('DataFrame is written to Excel File successfullyyyyyy.')"
   ]
  },
  {
   "cell_type": "markdown",
   "id": "1bab25c0",
   "metadata": {},
   "source": [
    "# Case III"
   ]
  },
  {
   "cell_type": "code",
   "execution_count": 11,
   "id": "698b457e",
   "metadata": {},
   "outputs": [
    {
     "name": "stdout",
     "output_type": "stream",
     "text": [
      "{'Sheet 1':                 ORGANIZATION_NAME             INVC_DT           CONTACT_NAME  \\\n",
      "0      66289 - BHARAT AUTOMOBILES 2022-12-01 00:02:02             AMAR KUMAR   \n",
      "1            65769 - ELITE MOTORS 2022-12-01 00:06:56          BALRAAJ SINGH   \n",
      "2            65769 - ELITE MOTORS 2022-12-01 00:14:16           SADDIK MOH .   \n",
      "3         10995 - BHARATH MOTORS. 2022-12-01 01:37:22           RAJA KUMAR S   \n",
      "4         10995 - BHARATH MOTORS. 2022-12-01 01:38:19                PINTO S   \n",
      "...                           ...                 ...                    ...   \n",
      "39430  11210 - SRI JAYARAM MOTORS 2022-12-07 22:10:30  ESWARA RAO GUDISE TPK   \n",
      "39431  11210 - SRI JAYARAM MOTORS 2022-12-07 22:34:00      SHAMSUS SADEQ TPK   \n",
      "39432  10605 - R.M.MOTORS (P) LTD 2022-12-07 23:06:27      M DORASWAMI NAIDU   \n",
      "39433  10605 - R.M.MOTORS (P) LTD 2022-12-07 23:18:29           A VENKATADRI   \n",
      "39434  10605 - R.M.MOTORS (P) LTD 2022-12-07 23:29:41              K RAMARAO   \n",
      "\n",
      "         CELL_NUM       ZONAL_OFFICE_NAME          AREA_OFFICE_NAME  \n",
      "0      6202629098     Zonal Office - East       Area Office - Patna  \n",
      "1      9649245385  Zonal Office - Central      Area Office - Jaipur  \n",
      "2      9783824806  Zonal Office - Central      Area Office - Jaipur  \n",
      "3      6380034693    Zonal Office - South     Area Office - Chennai  \n",
      "4      9489246870    Zonal Office - South     Area Office - Chennai  \n",
      "...           ...                     ...                       ...  \n",
      "39430  9573927281    Zonal Office - South  Area Office - Vijayawada  \n",
      "39431  9640930512    Zonal Office - South  Area Office - Vijayawada  \n",
      "39432  9908869582    Zonal Office - South  Area Office - Vijayawada  \n",
      "39433  8688213785    Zonal Office - South  Area Office - Vijayawada  \n",
      "39434  9703113315    Zonal Office - South  Area Office - Vijayawada  \n",
      "\n",
      "[39435 rows x 6 columns], 'Sheet 2':                               ORGANIZATION_NAME             INVC_DT  \\\n",
      "0                           11046 - DIYA MOTORS 2022-12-08 17:04:32   \n",
      "1                    10333 - BORAWAKE AUTOLINES 2022-12-12 16:02:01   \n",
      "2                    10333 - BORAWAKE AUTOLINES 2022-12-08 10:17:25   \n",
      "3                    10333 - BORAWAKE AUTOLINES 2022-12-01 18:20:05   \n",
      "4                            11731 - SAI WHEELZ 2022-12-07 18:29:48   \n",
      "...                                         ...                 ...   \n",
      "21394                   62560 - Usha Automobile 2022-12-08 12:05:33   \n",
      "21395                   62807 - N P Auto Centre 2022-12-08 12:26:14   \n",
      "21396      65808 - JAI MAA ANNAPURNA AUTOMOBILE 2022-12-12 17:22:57   \n",
      "21397  10885 - SHRI SHYAMJEE AUTOWHEELS PVT LTD 2022-12-04 16:49:14   \n",
      "21398  10885 - SHRI SHYAMJEE AUTOWHEELS PVT LTD 2022-12-07 14:54:34   \n",
      "\n",
      "                 CONTACT_NAME    CELL_NUM     ZONAL_OFFICE_NAME  \\\n",
      "0                 SREELATHA .  9656197630  Zonal Office - South   \n",
      "1        ANAND HANMANT MADANE  9975018820   Zonal Office - West   \n",
      "2      MADHURI SHANKAR JADHAV  9158315294   Zonal Office - West   \n",
      "3         VISHAL DILIP JADHAV  7774079114   Zonal Office - West   \n",
      "4            NARASIMHAMURTY .  8095811224  Zonal Office - South   \n",
      "...                       ...         ...                   ...   \n",
      "21394           VIKASH TIWARI  8417959569  Zonal Office - North   \n",
      "21395         BISHWAJIT DUTTA  9694975048   Zonal Office - East   \n",
      "21396             SABHAJIT **  7379865960  Zonal Office - North   \n",
      "21397               RAJEEV ..  8979320751  Zonal Office - North   \n",
      "21398           AVNEESH KUMAR  7599318988  Zonal Office - North   \n",
      "\n",
      "              AREA_OFFICE_NAME  \n",
      "0          Area Office - Kochi  \n",
      "1           Area Office - Pune  \n",
      "2           Area Office - Pune  \n",
      "3           Area Office - Pune  \n",
      "4      Area Office - Bengaluru  \n",
      "...                        ...  \n",
      "21394   Area Office - Varanasi  \n",
      "21395    Area Office - Kolkata  \n",
      "21396   Area Office - Varanasi  \n",
      "21397      Area Office - Noida  \n",
      "21398      Area Office - Noida  \n",
      "\n",
      "[21399 rows x 6 columns]}\n"
     ]
    }
   ],
   "source": [
    "\n",
    "df_dec = pd.read_excel(r'C:\\Users\\RAJG\\Downloads\\Leads to Sale\\Sales Data\\ECR_Dec1.xls',sheet_name=None)\n",
    "print(df_dec)"
   ]
  },
  {
   "cell_type": "code",
   "execution_count": 12,
   "id": "23b8152a",
   "metadata": {
    "scrolled": true
   },
   "outputs": [
    {
     "name": "stdout",
     "output_type": "stream",
     "text": [
      "                              ORGANIZATION_NAME             INVC_DT  \\\n",
      "0                    66289 - BHARAT AUTOMOBILES 2022-12-01 00:02:02   \n",
      "1                          65769 - ELITE MOTORS 2022-12-01 00:06:56   \n",
      "2                          65769 - ELITE MOTORS 2022-12-01 00:14:16   \n",
      "3                       10995 - BHARATH MOTORS. 2022-12-01 01:37:22   \n",
      "4                       10995 - BHARATH MOTORS. 2022-12-01 01:38:19   \n",
      "...                                         ...                 ...   \n",
      "60829                   62560 - Usha Automobile 2022-12-08 12:05:33   \n",
      "60830                   62807 - N P Auto Centre 2022-12-08 12:26:14   \n",
      "60831      65808 - JAI MAA ANNAPURNA AUTOMOBILE 2022-12-12 17:22:57   \n",
      "60832  10885 - SHRI SHYAMJEE AUTOWHEELS PVT LTD 2022-12-04 16:49:14   \n",
      "60833  10885 - SHRI SHYAMJEE AUTOWHEELS PVT LTD 2022-12-07 14:54:34   \n",
      "\n",
      "          CONTACT_NAME    CELL_NUM       ZONAL_OFFICE_NAME  \\\n",
      "0           AMAR KUMAR  6202629098     Zonal Office - East   \n",
      "1        BALRAAJ SINGH  9649245385  Zonal Office - Central   \n",
      "2         SADDIK MOH .  9783824806  Zonal Office - Central   \n",
      "3         RAJA KUMAR S  6380034693    Zonal Office - South   \n",
      "4              PINTO S  9489246870    Zonal Office - South   \n",
      "...                ...         ...                     ...   \n",
      "60829    VIKASH TIWARI  8417959569    Zonal Office - North   \n",
      "60830  BISHWAJIT DUTTA  9694975048     Zonal Office - East   \n",
      "60831      SABHAJIT **  7379865960    Zonal Office - North   \n",
      "60832        RAJEEV ..  8979320751    Zonal Office - North   \n",
      "60833    AVNEESH KUMAR  7599318988    Zonal Office - North   \n",
      "\n",
      "             AREA_OFFICE_NAME  \n",
      "0         Area Office - Patna  \n",
      "1        Area Office - Jaipur  \n",
      "2        Area Office - Jaipur  \n",
      "3       Area Office - Chennai  \n",
      "4       Area Office - Chennai  \n",
      "...                       ...  \n",
      "60829  Area Office - Varanasi  \n",
      "60830   Area Office - Kolkata  \n",
      "60831  Area Office - Varanasi  \n",
      "60832     Area Office - Noida  \n",
      "60833     Area Office - Noida  \n",
      "\n",
      "[60834 rows x 6 columns]\n"
     ]
    }
   ],
   "source": [
    "df_dec_m = pd.concat(pd.read_excel(r'C:\\Users\\RAJG\\Downloads\\Leads to Sale\\Sales Data\\ECR_Dec1.xls',sheet_name=None),ignore_index=True)\n",
    "print(df_dec_m)"
   ]
  },
  {
   "cell_type": "code",
   "execution_count": 14,
   "id": "fcc444de",
   "metadata": {},
   "outputs": [
    {
     "name": "stdout",
     "output_type": "stream",
     "text": [
      "DataFrame is written to Excel File successfullyyyyyy.\n"
     ]
    }
   ],
   "source": [
    "# determining the name of the file\n",
    "file_name = 'ECR_Dec1_Merged.xlsx'\n",
    "\n",
    "# saving the excel\n",
    "df_dec_m.to_excel(file_name)\n",
    "print('DataFrame is written to Excel File successfullyyyyyy.')"
   ]
  },
  {
   "cell_type": "code",
   "execution_count": null,
   "id": "56d5bc19",
   "metadata": {},
   "outputs": [],
   "source": []
  }
 ],
 "metadata": {
  "kernelspec": {
   "display_name": "Python 3 (ipykernel)",
   "language": "python",
   "name": "python3"
  },
  "language_info": {
   "codemirror_mode": {
    "name": "ipython",
    "version": 3
   },
   "file_extension": ".py",
   "mimetype": "text/x-python",
   "name": "python",
   "nbconvert_exporter": "python",
   "pygments_lexer": "ipython3",
   "version": "3.9.12"
  }
 },
 "nbformat": 4,
 "nbformat_minor": 5
}
